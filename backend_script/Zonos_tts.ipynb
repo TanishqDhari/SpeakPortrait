{
  "nbformat": 4,
  "nbformat_minor": 0,
  "metadata": {
    "colab": {
      "provenance": []
    },
    "kernelspec": {
      "name": "python3",
      "display_name": "Python 3"
    },
    "language_info": {
      "name": "python"
    }
  },
  "cells": [
    {
      "cell_type": "code",
      "source": [
        "!git clone https://github.com/Zyphra/Zonos.git\n",
        "%cd Zonos"
      ],
      "metadata": {
        "id": "UekbJM5n9aEi"
      },
      "execution_count": null,
      "outputs": []
    },
    {
      "cell_type": "code",
      "execution_count": null,
      "metadata": {
        "id": "PeTlzI7q8tfE"
      },
      "outputs": [],
      "source": [
        "# about 1min\n",
        "!pip install kanjize\n",
        "!pip install phonemizer\n",
        "!pip install sudachipy\n",
        "!pip install sudachidict_full\n",
        "!apt-get install -y espeak"
      ]
    },
    {
      "cell_type": "code",
      "source": [
        "import os\n",
        "import warnings\n",
        "%cd /content/Zonos\n",
        "warnings.filterwarnings(\"ignore\", category=UserWarning)\n",
        "os.environ[\"GRADIO_SHARE\"] = \"true\"\n",
        "!python gradio_interface.py"
      ],
      "metadata": {
        "id": "2WlGITQp9YQY"
      },
      "execution_count": null,
      "outputs": []
    }
  ]
}