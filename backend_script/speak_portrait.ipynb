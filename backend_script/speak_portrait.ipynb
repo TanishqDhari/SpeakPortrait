{
  "cells": [
    {
      "cell_type": "code",
      "execution_count": null,
      "metadata": {},
      "outputs": [],
      "source": [
        "!pip uninstall -y matplotlib\n",
        "!pip install matplotlib==3.5.3"
      ]
    },
    {
      "cell_type": "code",
      "execution_count": null,
      "metadata": {
        "collapsed": true,
        "id": "-ywgHwsxxLx-"
      },
      "outputs": [],
      "source": [
        "import os\n",
        "os.environ[\"MPLBACKEND\"] = \"Agg\"\n",
        "\n",
        "import matplotlib\n",
        "matplotlib.use('Agg')\n",
        "\n",
        "import skimage\n",
        "skimage.io.use_plugin('pil')\n",
        "\n",
        "from skimage import io, img_as_float32, transform\n"
      ]
    },
    {
      "cell_type": "code",
      "execution_count": null,
      "metadata": {
        "collapsed": true,
        "id": "Is6X3c-t7Zyd"
      },
      "outputs": [],
      "source": [
        "!pip install flask-ngrok\n",
        "!pip install pyngrok"
      ]
    },
    {
      "cell_type": "code",
      "execution_count": null,
      "metadata": {
        "collapsed": true,
        "id": "qe0_vqD47b8B"
      },
      "outputs": [],
      "source": [
        "!apt update\n",
        "!apt install ffmpeg -y"
      ]
    },
    {
      "cell_type": "code",
      "execution_count": null,
      "metadata": {
        "collapsed": true,
        "id": "SZhnYz-OsWHk"
      },
      "outputs": [],
      "source": [
        "!pip install opencv-python basicsr realesrgan imageio\n",
        "!pip install torch==1.13.1 torchvision==0.14.1 --index-url https://download.pytorch.org/whl/cu117\n",
        "!pip install gfpgan==1.3.8\n",
        "!pip install -U scikit-image"
      ]
    },
    {
      "cell_type": "code",
      "execution_count": null,
      "metadata": {
        "collapsed": true,
        "id": "Sj6HRAwPjEH0"
      },
      "outputs": [],
      "source": [
        "!sudo apt-get update -y\n",
        "!sudo apt-get install python3.10 python3.10-dev python3.10-distutils -y\n",
        "!sudo update-alternatives --install /usr/bin/python3 python3 /usr/bin/python3.10 1\n",
        "!sudo update-alternatives --set python3 /usr/bin/python3.10"
      ]
    },
    {
      "cell_type": "code",
      "execution_count": null,
      "metadata": {
        "collapsed": true,
        "id": "Fi3Y5fi1oFC0"
      },
      "outputs": [],
      "source": [
        "!curl -sS https://bootstrap.pypa.io/get-pip.py | python3"
      ]
    },
    {
      "cell_type": "code",
      "execution_count": null,
      "metadata": {
        "collapsed": true,
        "id": "8FBeSpEBnTa3"
      },
      "outputs": [],
      "source": [
        "!git clone -b dev https://github.com/OpenTalker/SadTalker.git\n",
        "%cd SadTalker\n",
        "!python3 -m pip install -r requirements.txt\n",
        "!bash scripts/download_models.sh"
      ]
    },
    {
      "cell_type": "code",
      "execution_count": null,
      "metadata": {
        "collapsed": true,
        "id": "USdfltVOwIey"
      },
      "outputs": [],
      "source": [
        "!pip install torch==1.13.1 torchvision==0.14.1 --index-url https://download.pytorch.org/whl/cu117"
      ]
    },
    {
      "cell_type": "code",
      "execution_count": null,
      "metadata": {
        "id": "1-rKWP3s0jIp"
      },
      "outputs": [],
      "source": [
        "!pip install pydub"
      ]
    },
    {
      "cell_type": "code",
      "execution_count": null,
      "metadata": {
        "id": "7yloDwc60lif"
      },
      "outputs": [],
      "source": [
        "from pydub import AudioSegment"
      ]
    },
    {
      "cell_type": "code",
      "execution_count": null,
      "metadata": {
        "collapsed": true,
        "id": "cdiKROKK3guG"
      },
      "outputs": [],
      "source": [
        "from flask import Flask, request, send_file\n",
        "from pyngrok import ngrok\n",
        "import os\n",
        "import subprocess\n",
        "\n",
        "ngrok.set_auth_token('2zBytGMcVk9x9BMsHaTl8LHQCsk_4ruiCTWtjRUNjapivYdEd')\n",
        "app = Flask(__name__)\n",
        "public_url = ngrok.connect(5000)\n",
        "print(f\"🔗 Public URL: {public_url}\")\n",
        "\n",
        "@app.route('/generate', methods=['POST'])\n",
        "def generate():\n",
        "    image = request.files.get('image')\n",
        "    audio = request.files.get('audio')\n",
        "\n",
        "    if not image or not audio:\n",
        "        return \"Missing image or audio\", 400\n",
        "\n",
        "    image_dir = \"/content/image\"\n",
        "    audio_dir = \"/content/audio\"\n",
        "    result_dir = \"/content/results\"\n",
        "    os.makedirs(image_dir, exist_ok=True)\n",
        "    os.makedirs(audio_dir, exist_ok=True)\n",
        "    os.makedirs(result_dir, exist_ok=True)\n",
        "\n",
        "    image_path = f\"{image_dir}/received_image.jpg\"\n",
        "    audio_path = f\"{audio_dir}/received_audio.wav\"\n",
        "    output_video_path = f\"{result_dir}/received_video.mp4\"\n",
        "\n",
        "    image.save(image_path)\n",
        "    audio.save(audio_path)\n",
        "\n",
        "    command = [\n",
        "        \"python3\", \"/content/SadTalker/inference.py\",\n",
        "        \"--driven_audio\", audio_path,\n",
        "        \"--source_image\", image_path,\n",
        "        \"--result_dir\", result_dir,\n",
        "        \"--enhancer\", \"gfpgan\"\n",
        "    ]\n",
        "\n",
        "    try:\n",
        "        subprocess.run(command, check=True)\n",
        "    except subprocess.CalledProcessError as e:\n",
        "        return f\"Inference failed: {e}\", 500\n",
        "\n",
        "    if not os.path.exists(output_video_path):\n",
        "        return \"Video not found\", 500\n",
        "\n",
        "    return send_file(output_video_path, mimetype=\"video/mp4\", as_attachment=True)\n",
        "\n",
        "app.run(port=5000)"
      ]
    }
  ],
  "metadata": {
    "accelerator": "GPU",
    "colab": {
      "gpuType": "T4",
      "provenance": []
    },
    "kernelspec": {
      "display_name": "Python 3",
      "name": "python3"
    },
    "language_info": {
      "name": "python"
    }
  },
  "nbformat": 4,
  "nbformat_minor": 0
}
